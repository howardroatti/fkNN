{
 "cells": [
  {
   "cell_type": "markdown",
   "metadata": {},
   "source": [
    "##### Reescrita em Python do fkNN\n",
    "##### Created by Howard Roatti"
   ]
  },
  {
   "cell_type": "code",
   "execution_count": 1,
   "metadata": {},
   "outputs": [],
   "source": [
    "import pandas as pd\n",
    "import numpy as np\n",
    "from sklearn.metrics.pairwise import cosine_distances"
   ]
  },
  {
   "cell_type": "code",
   "execution_count": 2,
   "metadata": {},
   "outputs": [],
   "source": [
    "class Node:\n",
    "    def __init__(self):\n",
    "        self.features = []\n",
    "        self.psi = []\n",
    "        self.gamma = 0.0\n",
    "        self.eta = 0.0\n",
    "        self.classe = None"
   ]
  },
  {
   "cell_type": "code",
   "execution_count": 3,
   "metadata": {},
   "outputs": [],
   "source": [
    "#Retorna a Similaridade entre dois vetores\n",
    "def Dissimilarity(itemA, itemB):\n",
    "    if type(itemA).__module__ == np.__name__:\n",
    "        return cosine_distances(itemA.reshape(1, -1), itemB.reshape(1, -1))\n",
    "    return cosine_distances(itemA, itemB)"
   ]
  },
  {
   "cell_type": "code",
   "execution_count": 4,
   "metadata": {},
   "outputs": [],
   "source": [
    "def CalculateGamma(item, lista):\n",
    "    ordenado = []\n",
    "    emOrdem = 0.0\n",
    "    for _ in lista:\n",
    "        if item.classe != _.classe:\n",
    "            ordenado.append(Dissimilarity(item.features, _.features))\n",
    "            emOrdem = np.sort(ordenado)\n",
    "    return emOrdem[-1]"
   ]
  },
  {
   "cell_type": "code",
   "execution_count": 5,
   "metadata": {},
   "outputs": [],
   "source": [
    "#Mock DataSet\n",
    "from random import randint\n",
    "\n",
    "dados = np.array([\n",
    "    [1.0, 0.0, 1.0, 0.0, 0.5, 0.5, 1.0, 1.0],\n",
    "    [1.0, 1.0, 0.0, 0.0, 0.0, 0.0, 1.0, 1.0],\n",
    "    [0.0, 0.0, 1.5, 0.5, 1.0, 0.5, 0.0, 0.0],\n",
    "    [2.0, 1.5, 0.0, 0.5, 1.0, 0.0, 1.0, 1.0],\n",
    "    [1.5, 0.0, 1.5, 0.5, 1.0, 0.5, 0.0, 0.0],\n",
    "    [2.0, 2.0, 0.5, 1.5, 1.5, 2.0, 0.5, 1.5],\n",
    "    [2.0, 2.0, 2.5, 2.0, 2.0, 2.0, 2.0, 2.0],\n",
    "    [1.0, 1.0, 1.0, 1.0, 1.0, 1.0, 1.0, 1.0],\n",
    "    [0.5, 0.5, 0.5, 0.5, 0.5, 0.5, 0.5, 0.5],\n",
    "    [0.5, 1.0, 1.5, 2.0, 0.0, 0.5, 1.0, 1.5]\n",
    "    ])"
   ]
  },
  {
   "cell_type": "code",
   "execution_count": 6,
   "metadata": {},
   "outputs": [
    {
     "name": "stdout",
     "output_type": "stream",
     "text": [
      "0.16666666666666674\n",
      "0.39697731084447274\n",
      "0.36099034957730636\n",
      "0.4130608143465777\n",
      "0.2783121635129677\n",
      "0.27843146061874813\n",
      "0.0031985460052080805\n",
      "0.14719713457755834\n",
      "0.14719713457755834\n",
      "0.14719713457755834\n"
     ]
    }
   ],
   "source": [
    "#Script de Criação dos Objetos para Construção da Árvore\n",
    "lista = []\n",
    "\n",
    "#Copia as features do Mock DataSet criando um nó com classe aleatória\n",
    "for _ in dados:\n",
    "    node = Node()\n",
    "    node.features = _\n",
    "    \n",
    "    if randint(0,1) == 1:\n",
    "        node.classe = 'Trusted'\n",
    "    else:\n",
    "        node.classe = 'Fake'\n",
    "    lista.append(node)\n",
    "    \n",
    "lista = np.array(lista)\n",
    "\n",
    "#Calcula o Gamma de Cada Nó e Armazena no atributo correspondente\n",
    "for _ in lista:\n",
    "    _.gamma = CalculateGamma(_, lista)[0][0]\n",
    "    print(_.gamma)"
   ]
  },
  {
   "cell_type": "code",
   "execution_count": 10,
   "metadata": {},
   "outputs": [
    {
     "name": "stdout",
     "output_type": "stream",
     "text": [
      "Classe:  Fake \n",
      " Gamma:  0.16666666666666674 \n",
      " Features:  [1.  0.  1.  0.  0.5 0.5 1.  1. ] \n",
      "\n",
      "\n",
      "Classe:  Trusted \n",
      " Gamma:  0.39697731084447274 \n",
      " Features:  [1. 1. 0. 0. 0. 0. 1. 1.] \n",
      "\n",
      "\n",
      "Classe:  Fake \n",
      " Gamma:  0.36099034957730636 \n",
      " Features:  [0.  0.  1.5 0.5 1.  0.5 0.  0. ] \n",
      "\n",
      "\n",
      "Classe:  Trusted \n",
      " Gamma:  0.4130608143465777 \n",
      " Features:  [2.  1.5 0.  0.5 1.  0.  1.  1. ] \n",
      "\n",
      "\n",
      "Classe:  Fake \n",
      " Gamma:  0.2783121635129677 \n",
      " Features:  [1.5 0.  1.5 0.5 1.  0.5 0.  0. ] \n",
      "\n",
      "\n",
      "Classe:  Trusted \n",
      " Gamma:  0.27843146061874813 \n",
      " Features:  [2.  2.  0.5 1.5 1.5 2.  0.5 1.5] \n",
      "\n",
      "\n",
      "Classe:  Fake \n",
      " Gamma:  0.0031985460052080805 \n",
      " Features:  [2.  2.  2.5 2.  2.  2.  2.  2. ] \n",
      "\n",
      "\n",
      "Classe:  Trusted \n",
      " Gamma:  0.14719713457755834 \n",
      " Features:  [1. 1. 1. 1. 1. 1. 1. 1.] \n",
      "\n",
      "\n",
      "Classe:  Trusted \n",
      " Gamma:  0.14719713457755834 \n",
      " Features:  [0.5 0.5 0.5 0.5 0.5 0.5 0.5 0.5] \n",
      "\n",
      "\n",
      "Classe:  Fake \n",
      " Gamma:  0.14719713457755834 \n",
      " Features:  [0.5 1.  1.5 2.  0.  0.5 1.  1.5] \n",
      "\n",
      "\n"
     ]
    }
   ],
   "source": [
    "for _ in lista:\n",
    "    print('Classe: ', _.classe, \"\\n Gamma: \", _.gamma, \"\\n Features: \", _.features, \"\\n\\n\")"
   ]
  }
 ],
 "metadata": {
  "kernelspec": {
   "display_name": "Python 3",
   "language": "python",
   "name": "python3"
  },
  "language_info": {
   "codemirror_mode": {
    "name": "ipython",
    "version": 3
   },
   "file_extension": ".py",
   "mimetype": "text/x-python",
   "name": "python",
   "nbconvert_exporter": "python",
   "pygments_lexer": "ipython3",
   "version": "3.6.5"
  }
 },
 "nbformat": 4,
 "nbformat_minor": 2
}
