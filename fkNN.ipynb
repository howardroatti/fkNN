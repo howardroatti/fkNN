{
 "cells": [
  {
   "cell_type": "markdown",
   "metadata": {},
   "source": [
    "##### Reescrita em Python do fkNN\n",
    "##### Created by Howard Roatti"
   ]
  },
  {
   "cell_type": "code",
   "execution_count": null,
   "metadata": {
    "scrolled": true
   },
   "outputs": [],
   "source": [
    "import pandas as pd\n",
    "import numpy as np\n",
    "from sklearn.metrics.pairwise import cosine_distances"
   ]
  },
  {
   "cell_type": "code",
   "execution_count": null,
   "metadata": {
    "scrolled": true
   },
   "outputs": [],
   "source": [
    "class Node:\n",
    "    def __init__(self):\n",
    "        self.features = []\n",
    "        self.psi = []\n",
    "        self.gamma = 0.0\n",
    "        self.eta = 0.0\n",
    "        self.classe = None\n",
    "        self.included = False\n",
    "        "
   ]
  },
  {
   "cell_type": "code",
   "execution_count": null,
   "metadata": {
    "scrolled": true
   },
   "outputs": [],
   "source": [
    "#Retorna a Similaridade entre dois vetores\n",
    "def Dissimilarity(itemA, itemB):\n",
    "    if type(itemA).__module__ == np.__name__:\n",
    "        return cosine_distances(itemA.reshape(1, -1), itemB.reshape(1, -1))\n",
    "    return cosine_distances(itemA, itemB)"
   ]
  },
  {
   "cell_type": "code",
   "execution_count": null,
   "metadata": {
    "scrolled": true
   },
   "outputs": [],
   "source": [
    "def CalculateGamma(item, lista):\n",
    "    ordenado = []\n",
    "    emOrdem = 0.0\n",
    "    for _ in lista:\n",
    "        if item.classe != _.classe:\n",
    "            ordenado.append(Dissimilarity(item.features, _.features))\n",
    "    \n",
    "    emOrdem = np.sort(ordenado)\n",
    "    \n",
    "    return emOrdem[-1]"
   ]
  },
  {
   "cell_type": "code",
   "execution_count": null,
   "metadata": {
    "scrolled": true
   },
   "outputs": [],
   "source": [
    "def CalculatePsi(item, lista):\n",
    "    listaPsi = []\n",
    "    for _ in lista:\n",
    "        if item.classe == _.classe and Dissimilarity(_.features, item.features) > item.gamma:            \n",
    "            listaPsi.append(_)\n",
    "    return np.array(listaPsi)"
   ]
  },
  {
   "cell_type": "code",
   "execution_count": null,
   "metadata": {
    "scrolled": true
   },
   "outputs": [],
   "source": [
    "def imprimeArvore(lista):\n",
    "    if len(lista) > 0:\n",
    "        for _ in lista:\n",
    "            if len(_.psi) > 0:\n",
    "                print (\"Classe: \", _.classe, \"\\n Gamma: \", _.gamma, \"\\n Features: \", _.features, \"\\n PSI: [\\t\")\n",
    "                for __ in _.psi:\n",
    "                    print (\"\\tClasse: \", __.classe, \"\\n \\tGamma: \", __.gamma, \"\\n \\tFeatures: \", __.features)\n",
    "                print (\"]\", \"\\n\\n\")"
   ]
  },
  {
   "cell_type": "code",
   "execution_count": null,
   "metadata": {
    "scrolled": true
   },
   "outputs": [],
   "source": [
    "#Mock DataSet\n",
    "from random import randint\n",
    "\n",
    "dados = np.array([\n",
    "    [1.0, 0.0, 1.0, 0.0, 0.5, 0.5, 1.0, 1.0],\n",
    "    [1.0, 1.0, 0.0, 0.0, 0.0, 0.0, 1.0, 1.0],\n",
    "    [0.0, 0.0, 1.5, 0.5, 1.0, 0.5, 0.0, 0.0],\n",
    "    [2.0, 1.5, 0.0, 0.5, 1.0, 0.0, 1.0, 1.0],\n",
    "    [1.5, 0.0, 1.5, 0.5, 1.0, 0.5, 0.0, 0.0],\n",
    "    [2.0, 2.0, 0.5, 1.5, 1.5, 2.0, 0.5, 1.5],\n",
    "    [2.0, 2.0, 2.5, 2.0, 2.0, 2.0, 2.0, 2.0],\n",
    "    [1.0, 1.0, 1.0, 1.0, 1.0, 1.0, 1.0, 1.0],\n",
    "    [0.5, 0.5, 0.5, 0.5, 0.5, 0.5, 0.5, 0.5],\n",
    "    [0.5, 1.0, 1.5, 2.0, 0.0, 0.5, 1.0, 1.5],\n",
    "    [1.0, 2.0, 1.5, 0.5, 0.5, 1.0, 1.5, 0.5],\n",
    "    [0.0, 0.0, 0.5, 0.0, 0.0, 0.0, 0.0, 0.0],\n",
    "    [1.5, 1.5, 1.5, 1.5, 1.5, 1.5, 1.5, 1.5],\n",
    "    [0.5, 1.5, 0.5, 1.5, 0.5, 1.5, 0.5, 1.5],\n",
    "    [2.0, 0.0, 2.0, 2.0, 0.0, 1.5, 2.0, 0.5]\n",
    "    ])"
   ]
  },
  {
   "cell_type": "code",
   "execution_count": null,
   "metadata": {
    "scrolled": true
   },
   "outputs": [],
   "source": [
    "#Script de Criação dos Objetos para Construção da Árvore\n",
    "lista = []\n",
    "\n",
    "#Copia as features do Mock DataSet criando um nó com classe aleatória\n",
    "for _ in dados:\n",
    "    node = Node()\n",
    "    node.features = np.array(_)\n",
    "    \n",
    "    if randint(0,1) == 1:\n",
    "        node.classe = 'Trusted'\n",
    "    else:\n",
    "        node.classe = 'Fake'\n",
    "    lista.append(node)\n",
    "    \n",
    "lista = np.array(lista)\n",
    "\n",
    "#Calcula o Gamma de Cada Nó e Armazena no atributo correspondente\n",
    "for _ in lista:\n",
    "    _.gamma = CalculateGamma(_, lista)[0][0]\n",
    "    _.psi = CalculatePsi(_, lista)"
   ]
  },
  {
   "cell_type": "code",
   "execution_count": null,
   "metadata": {
    "scrolled": true
   },
   "outputs": [],
   "source": [
    "imprimeArvore(lista)"
   ]
  },
  {
   "cell_type": "code",
   "execution_count": null,
   "metadata": {
    "scrolled": true
   },
   "outputs": [],
   "source": [
    "orderedNodes = sorted(lista, key=lambda x: len(x.psi), reverse=True)\n",
    "imprimeArvore(orderedNodes)"
   ]
  },
  {
   "cell_type": "code",
   "execution_count": null,
   "metadata": {},
   "outputs": [],
   "source": [
    "#Criar o objeto HyperNode, o Hyperlevel, Selecionar os HyperNodes e os Nós em BottomLevel para link"
   ]
  }
 ],
 "metadata": {
  "kernelspec": {
   "display_name": "Python 3",
   "language": "python",
   "name": "python3"
  },
  "language_info": {
   "codemirror_mode": {
    "name": "ipython",
    "version": 3
   },
   "file_extension": ".py",
   "mimetype": "text/x-python",
   "name": "python",
   "nbconvert_exporter": "python",
   "pygments_lexer": "ipython3",
   "version": "3.7.1"
  }
 },
 "nbformat": 4,
 "nbformat_minor": 2
}
